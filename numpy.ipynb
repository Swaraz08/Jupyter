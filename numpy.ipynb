{
 "cells": [
  {
   "attachments": {},
   "cell_type": "markdown",
   "metadata": {},
   "source": [
    "# Numpy Basics"
   ]
  },
  {
   "cell_type": "code",
   "execution_count": 1,
   "metadata": {},
   "outputs": [
    {
     "name": "stdout",
     "output_type": "stream",
     "text": [
      "Requirement already satisfied: numpy in c:\\users\\123sw\\anaconda3\\lib\\site-packages (1.23.5)\n",
      "Note: you may need to restart the kernel to use updated packages.\n"
     ]
    }
   ],
   "source": [
    "%pip install numpy "
   ]
  },
  {
   "cell_type": "code",
   "execution_count": 42,
   "metadata": {},
   "outputs": [],
   "source": [
    "import numpy as np"
   ]
  },
  {
   "cell_type": "code",
   "execution_count": 43,
   "metadata": {},
   "outputs": [],
   "source": [
    "arr=np.array([21,2,1])"
   ]
  },
  {
   "cell_type": "code",
   "execution_count": 44,
   "metadata": {},
   "outputs": [
    {
     "data": {
      "text/plain": [
       "array([21,  2,  1])"
      ]
     },
     "execution_count": 44,
     "metadata": {},
     "output_type": "execute_result"
    }
   ],
   "source": [
    "arr"
   ]
  },
  {
   "cell_type": "code",
   "execution_count": 45,
   "metadata": {},
   "outputs": [
    {
     "data": {
      "text/plain": [
       "numpy.ndarray"
      ]
     },
     "execution_count": 45,
     "metadata": {},
     "output_type": "execute_result"
    }
   ],
   "source": [
    "type(arr)"
   ]
  },
  {
   "cell_type": "code",
   "execution_count": 46,
   "metadata": {},
   "outputs": [],
   "source": [
    "A=np.array([1,2,3])"
   ]
  },
  {
   "cell_type": "code",
   "execution_count": 47,
   "metadata": {},
   "outputs": [
    {
     "data": {
      "text/plain": [
       "28"
      ]
     },
     "execution_count": 47,
     "metadata": {},
     "output_type": "execute_result"
    }
   ],
   "source": [
    "np.dot(arr,A)"
   ]
  },
  {
   "cell_type": "code",
   "execution_count": 48,
   "metadata": {},
   "outputs": [
    {
     "name": "stdout",
     "output_type": "stream",
     "text": [
      "Help on function dot in module numpy:\n",
      "\n",
      "dot(...)\n",
      "    dot(a, b, out=None)\n",
      "    \n",
      "    Dot product of two arrays. Specifically,\n",
      "    \n",
      "    - If both `a` and `b` are 1-D arrays, it is inner product of vectors\n",
      "      (without complex conjugation).\n",
      "    \n",
      "    - If both `a` and `b` are 2-D arrays, it is matrix multiplication,\n",
      "      but using :func:`matmul` or ``a @ b`` is preferred.\n",
      "    \n",
      "    - If either `a` or `b` is 0-D (scalar), it is equivalent to :func:`multiply`\n",
      "      and using ``numpy.multiply(a, b)`` or ``a * b`` is preferred.\n",
      "    \n",
      "    - If `a` is an N-D array and `b` is a 1-D array, it is a sum product over\n",
      "      the last axis of `a` and `b`.\n",
      "    \n",
      "    - If `a` is an N-D array and `b` is an M-D array (where ``M>=2``), it is a\n",
      "      sum product over the last axis of `a` and the second-to-last axis of `b`::\n",
      "    \n",
      "        dot(a, b)[i,j,k,m] = sum(a[i,j,:] * b[k,:,m])\n",
      "    \n",
      "    Parameters\n",
      "    ----------\n",
      "    a : array_like\n",
      "        First argument.\n",
      "    b : array_like\n",
      "        Second argument.\n",
      "    out : ndarray, optional\n",
      "        Output argument. This must have the exact kind that would be returned\n",
      "        if it was not used. In particular, it must have the right type, must be\n",
      "        C-contiguous, and its dtype must be the dtype that would be returned\n",
      "        for `dot(a,b)`. This is a performance feature. Therefore, if these\n",
      "        conditions are not met, an exception is raised, instead of attempting\n",
      "        to be flexible.\n",
      "    \n",
      "    Returns\n",
      "    -------\n",
      "    output : ndarray\n",
      "        Returns the dot product of `a` and `b`.  If `a` and `b` are both\n",
      "        scalars or both 1-D arrays then a scalar is returned; otherwise\n",
      "        an array is returned.\n",
      "        If `out` is given, then it is returned.\n",
      "    \n",
      "    Raises\n",
      "    ------\n",
      "    ValueError\n",
      "        If the last dimension of `a` is not the same size as\n",
      "        the second-to-last dimension of `b`.\n",
      "    \n",
      "    See Also\n",
      "    --------\n",
      "    vdot : Complex-conjugating dot product.\n",
      "    tensordot : Sum products over arbitrary axes.\n",
      "    einsum : Einstein summation convention.\n",
      "    matmul : '@' operator as method with out parameter.\n",
      "    linalg.multi_dot : Chained dot product.\n",
      "    \n",
      "    Examples\n",
      "    --------\n",
      "    >>> np.dot(3, 4)\n",
      "    12\n",
      "    \n",
      "    Neither argument is complex-conjugated:\n",
      "    \n",
      "    >>> np.dot([2j, 3j], [2j, 3j])\n",
      "    (-13+0j)\n",
      "    \n",
      "    For 2-D arrays it is the matrix product:\n",
      "    \n",
      "    >>> a = [[1, 0], [0, 1]]\n",
      "    >>> b = [[4, 1], [2, 2]]\n",
      "    >>> np.dot(a, b)\n",
      "    array([[4, 1],\n",
      "           [2, 2]])\n",
      "    \n",
      "    >>> a = np.arange(3*4*5*6).reshape((3,4,5,6))\n",
      "    >>> b = np.arange(3*4*5*6)[::-1].reshape((5,4,6,3))\n",
      "    >>> np.dot(a, b)[2,3,2,1,2,2]\n",
      "    499128\n",
      "    >>> sum(a[2,3,2,:] * b[1,2,:,2])\n",
      "    499128\n",
      "\n"
     ]
    }
   ],
   "source": [
    "help(np.dot)"
   ]
  },
  {
   "cell_type": "code",
   "execution_count": 49,
   "metadata": {},
   "outputs": [
    {
     "name": "stdout",
     "output_type": "stream",
     "text": [
      "CPU times: total: 0 ns\n",
      "Wall time: 0 ns\n"
     ]
    },
    {
     "data": {
      "text/plain": [
       "array([22,  4,  4])"
      ]
     },
     "execution_count": 49,
     "metadata": {},
     "output_type": "execute_result"
    }
   ],
   "source": [
    "%%time\n",
    "arr+A"
   ]
  },
  {
   "cell_type": "code",
   "execution_count": 50,
   "metadata": {},
   "outputs": [
    {
     "data": {
      "text/plain": [
       "array([21,  4,  3])"
      ]
     },
     "execution_count": 50,
     "metadata": {},
     "output_type": "execute_result"
    }
   ],
   "source": [
    "arr*A"
   ]
  },
  {
   "cell_type": "code",
   "execution_count": 51,
   "metadata": {},
   "outputs": [
    {
     "data": {
      "text/plain": [
       "28"
      ]
     },
     "execution_count": 51,
     "metadata": {},
     "output_type": "execute_result"
    }
   ],
   "source": [
    "(arr*A).sum()"
   ]
  },
  {
   "attachments": {},
   "cell_type": "markdown",
   "metadata": {},
   "source": [
    "# Multi-dimensional Numpy Array"
   ]
  },
  {
   "cell_type": "code",
   "execution_count": 52,
   "metadata": {},
   "outputs": [],
   "source": [
    "climate_data=np.array([\n",
    "    [13,67,43],\n",
    "    [91, 88, 64],\n",
    "    [87,134,58],\n",
    "    [102,43,37],\n",
    "    [69,96,70]\n",
    "])"
   ]
  },
  {
   "cell_type": "code",
   "execution_count": 53,
   "metadata": {},
   "outputs": [
    {
     "data": {
      "text/plain": [
       "array([[ 13,  67,  43],\n",
       "       [ 91,  88,  64],\n",
       "       [ 87, 134,  58],\n",
       "       [102,  43,  37],\n",
       "       [ 69,  96,  70]])"
      ]
     },
     "execution_count": 53,
     "metadata": {},
     "output_type": "execute_result"
    }
   ],
   "source": [
    "climate_data"
   ]
  },
  {
   "cell_type": "code",
   "execution_count": 54,
   "metadata": {},
   "outputs": [
    {
     "data": {
      "text/plain": [
       "(5, 3)"
      ]
     },
     "execution_count": 54,
     "metadata": {},
     "output_type": "execute_result"
    }
   ],
   "source": [
    "climate_data.shape"
   ]
  },
  {
   "cell_type": "code",
   "execution_count": 55,
   "metadata": {},
   "outputs": [],
   "source": [
    "weights=np.array([.3,.2,.5])"
   ]
  },
  {
   "cell_type": "code",
   "execution_count": 56,
   "metadata": {},
   "outputs": [
    {
     "data": {
      "text/plain": [
       "array([0.3, 0.2, 0.5])"
      ]
     },
     "execution_count": 56,
     "metadata": {},
     "output_type": "execute_result"
    }
   ],
   "source": [
    "weights"
   ]
  },
  {
   "cell_type": "code",
   "execution_count": 57,
   "metadata": {},
   "outputs": [
    {
     "data": {
      "text/plain": [
       "(3,)"
      ]
     },
     "execution_count": 57,
     "metadata": {},
     "output_type": "execute_result"
    }
   ],
   "source": [
    "weights.shape"
   ]
  },
  {
   "cell_type": "code",
   "execution_count": 58,
   "metadata": {},
   "outputs": [
    {
     "data": {
      "text/plain": [
       "dtype('float64')"
      ]
     },
     "execution_count": 58,
     "metadata": {},
     "output_type": "execute_result"
    }
   ],
   "source": [
    "weights.dtype"
   ]
  },
  {
   "cell_type": "code",
   "execution_count": 59,
   "metadata": {},
   "outputs": [
    {
     "data": {
      "text/plain": [
       "dtype('int32')"
      ]
     },
     "execution_count": 59,
     "metadata": {},
     "output_type": "execute_result"
    }
   ],
   "source": [
    "climate_data.dtype"
   ]
  },
  {
   "attachments": {},
   "cell_type": "markdown",
   "metadata": {},
   "source": [
    "Matrix Multiplication"
   ]
  },
  {
   "cell_type": "code",
   "execution_count": 60,
   "metadata": {},
   "outputs": [
    {
     "data": {
      "text/plain": [
       "array([38.8, 76.9, 81.9, 57.7, 74.9])"
      ]
     },
     "execution_count": 60,
     "metadata": {},
     "output_type": "execute_result"
    }
   ],
   "source": [
    "np.matmul(climate_data,weights)"
   ]
  },
  {
   "cell_type": "code",
   "execution_count": 61,
   "metadata": {},
   "outputs": [
    {
     "data": {
      "text/plain": [
       "array([38.8, 76.9, 81.9, 57.7, 74.9])"
      ]
     },
     "execution_count": 61,
     "metadata": {},
     "output_type": "execute_result"
    }
   ],
   "source": [
    "climate_data@weights"
   ]
  },
  {
   "attachments": {},
   "cell_type": "markdown",
   "metadata": {},
   "source": [
    "# Working with CSV Files"
   ]
  },
  {
   "cell_type": "code",
   "execution_count": 62,
   "metadata": {},
   "outputs": [],
   "source": [
    "import urllib.request"
   ]
  },
  {
   "cell_type": "code",
   "execution_count": 64,
   "metadata": {},
   "outputs": [
    {
     "data": {
      "text/plain": [
       "('data.txt', <http.client.HTTPMessage at 0x1ce03746980>)"
      ]
     },
     "execution_count": 64,
     "metadata": {},
     "output_type": "execute_result"
    }
   ],
   "source": [
    "urllib.request.urlretrieve('https://www.kaggle.com/datatattle/dtmart-retail-sales','data.txt')"
   ]
  },
  {
   "cell_type": "code",
   "execution_count": 65,
   "metadata": {},
   "outputs": [
    {
     "name": "stdout",
     "output_type": "stream",
     "text": [
      "Requirement already satisfied: pandas in c:\\users\\123sw\\anaconda3\\lib\\site-packages (1.5.3)\n",
      "Requirement already satisfied: numpy>=1.21.0 in c:\\users\\123sw\\anaconda3\\lib\\site-packages (from pandas) (1.23.5)\n",
      "Requirement already satisfied: python-dateutil>=2.8.1 in c:\\users\\123sw\\anaconda3\\lib\\site-packages (from pandas) (2.8.2)\n",
      "Requirement already satisfied: pytz>=2020.1 in c:\\users\\123sw\\anaconda3\\lib\\site-packages (from pandas) (2022.7)\n",
      "Requirement already satisfied: six>=1.5 in c:\\users\\123sw\\anaconda3\\lib\\site-packages (from python-dateutil>=2.8.1->pandas) (1.16.0)\n",
      "Note: you may need to restart the kernel to use updated packages.\n"
     ]
    }
   ],
   "source": [
    "%pip install pandas\n"
   ]
  },
  {
   "cell_type": "code",
   "execution_count": 66,
   "metadata": {},
   "outputs": [],
   "source": [
    "import pandas as pd"
   ]
  },
  {
   "cell_type": "code",
   "execution_count": 82,
   "metadata": {},
   "outputs": [],
   "source": [
    "data=pd.read_csv('./amazon_men.csv',delimiter=',',encoding='unicode_escape')"
   ]
  },
  {
   "cell_type": "code",
   "execution_count": 83,
   "metadata": {},
   "outputs": [
    {
     "data": {
      "text/html": [
       "<div>\n",
       "<style scoped>\n",
       "    .dataframe tbody tr th:only-of-type {\n",
       "        vertical-align: middle;\n",
       "    }\n",
       "\n",
       "    .dataframe tbody tr th {\n",
       "        vertical-align: top;\n",
       "    }\n",
       "\n",
       "    .dataframe thead th {\n",
       "        text-align: right;\n",
       "    }\n",
       "</style>\n",
       "<table border=\"1\" class=\"dataframe\">\n",
       "  <thead>\n",
       "    <tr style=\"text-align: right;\">\n",
       "      <th></th>\n",
       "      <th>Product Description</th>\n",
       "      <th>Price(Dollar)</th>\n",
       "      <th>Number of reviews</th>\n",
       "      <th>Real price(Dollar)</th>\n",
       "      <th>Shipment</th>\n",
       "      <th>Delivery Date</th>\n",
       "      <th>How many sell  in past month</th>\n",
       "    </tr>\n",
       "  </thead>\n",
       "  <tbody>\n",
       "    <tr>\n",
       "      <th>0</th>\n",
       "      <td>Vertx Cutback Mens Tactical Shorts 11 inches, ...</td>\n",
       "      <td>62</td>\n",
       "      <td>2</td>\n",
       "      <td>14.00</td>\n",
       "      <td>Ships to Bangladesh</td>\n",
       "      <td>Thu, Jun 15</td>\n",
       "      <td>10K+ bought in past month</td>\n",
       "    </tr>\n",
       "    <tr>\n",
       "      <th>1</th>\n",
       "      <td>Storelli Jumper Socks by Floky, Biomechanical ...</td>\n",
       "      <td>49</td>\n",
       "      <td>1,652</td>\n",
       "      <td>22.00</td>\n",
       "      <td>Ships to Bangladesh</td>\n",
       "      <td>Thu, Jun 15</td>\n",
       "      <td>10K+ bought in past month</td>\n",
       "    </tr>\n",
       "    <tr>\n",
       "      <th>2</th>\n",
       "      <td>Storelli Re-Charge Recovery Socks by Floky, Bi...</td>\n",
       "      <td>49</td>\n",
       "      <td>259,463</td>\n",
       "      <td>30.00</td>\n",
       "      <td>Ships to Bangladesh</td>\n",
       "      <td>Thu, Jun 15</td>\n",
       "      <td>6K+ bought in past month</td>\n",
       "    </tr>\n",
       "    <tr>\n",
       "      <th>3</th>\n",
       "      <td>Nike Men's Dri-Fit Training Cotton Cushioned C...</td>\n",
       "      <td>25</td>\n",
       "      <td>52,469</td>\n",
       "      <td>26.00</td>\n",
       "      <td>Ships to Bangladesh</td>\n",
       "      <td>Thu, Jun 15</td>\n",
       "      <td>10K+ bought in past month</td>\n",
       "    </tr>\n",
       "    <tr>\n",
       "      <th>4</th>\n",
       "      <td>Gildan Men's Crew T-Shirts, Multipack, Style G...</td>\n",
       "      <td>42</td>\n",
       "      <td>27,762</td>\n",
       "      <td>20.50</td>\n",
       "      <td>Ships to Bangladesh</td>\n",
       "      <td>Thu, Jun 15</td>\n",
       "      <td>7K+ bought in past month</td>\n",
       "    </tr>\n",
       "    <tr>\n",
       "      <th>...</th>\n",
       "      <td>...</td>\n",
       "      <td>...</td>\n",
       "      <td>...</td>\n",
       "      <td>...</td>\n",
       "      <td>...</td>\n",
       "      <td>...</td>\n",
       "      <td>...</td>\n",
       "    </tr>\n",
       "    <tr>\n",
       "      <th>23948</th>\n",
       "      <td>Amazon Essentials Men's Corduroy Chino Pants</td>\n",
       "      <td>37</td>\n",
       "      <td>84</td>\n",
       "      <td>None</td>\n",
       "      <td>Ships to Bangladesh</td>\n",
       "      <td>Wed, Jun 21</td>\n",
       "      <td>100+ bought in past month</td>\n",
       "    </tr>\n",
       "    <tr>\n",
       "      <th>23949</th>\n",
       "      <td>Paul Smith Men's Standard Short Long Zebra</td>\n",
       "      <td>NaN</td>\n",
       "      <td>84</td>\n",
       "      <td>None</td>\n",
       "      <td>Ships to Bangladesh</td>\n",
       "      <td>Wed, Jun 21</td>\n",
       "      <td>100+ bought in past month</td>\n",
       "    </tr>\n",
       "    <tr>\n",
       "      <th>23950</th>\n",
       "      <td>Tommy Bahama Long Sleeve Indigo Beach Camp Shirt</td>\n",
       "      <td>NaN</td>\n",
       "      <td>84</td>\n",
       "      <td>None</td>\n",
       "      <td>Ships to Bangladesh</td>\n",
       "      <td>Wed, Jun 21</td>\n",
       "      <td>100+ bought in past month</td>\n",
       "    </tr>\n",
       "    <tr>\n",
       "      <th>23951</th>\n",
       "      <td>Kanu Surf Men's South Beach Swim Trunks (Regul...</td>\n",
       "      <td>NaN</td>\n",
       "      <td>84</td>\n",
       "      <td>None</td>\n",
       "      <td>&amp; Up</td>\n",
       "      <td>Wed, Jun 21</td>\n",
       "      <td>100+ bought in past month</td>\n",
       "    </tr>\n",
       "    <tr>\n",
       "      <th>23952</th>\n",
       "      <td>Volcom Men's Iconic Stone Fleece 20\" SweatShorts</td>\n",
       "      <td>NaN</td>\n",
       "      <td>84</td>\n",
       "      <td>None</td>\n",
       "      <td>&amp; Up</td>\n",
       "      <td>Wed, Jun 21</td>\n",
       "      <td>100+ bought in past month</td>\n",
       "    </tr>\n",
       "  </tbody>\n",
       "</table>\n",
       "<p>23953 rows × 7 columns</p>\n",
       "</div>"
      ],
      "text/plain": [
       "                                    Product Description  Price(Dollar)  \\\n",
       "0      Vertx Cutback Mens Tactical Shorts 11 inches, ...            62   \n",
       "1      Storelli Jumper Socks by Floky, Biomechanical ...            49   \n",
       "2      Storelli Re-Charge Recovery Socks by Floky, Bi...            49   \n",
       "3      Nike Men's Dri-Fit Training Cotton Cushioned C...            25   \n",
       "4      Gildan Men's Crew T-Shirts, Multipack, Style G...            42   \n",
       "...                                                  ...           ...   \n",
       "23948       Amazon Essentials Men's Corduroy Chino Pants            37   \n",
       "23949         Paul Smith Men's Standard Short Long Zebra           NaN   \n",
       "23950   Tommy Bahama Long Sleeve Indigo Beach Camp Shirt           NaN   \n",
       "23951  Kanu Surf Men's South Beach Swim Trunks (Regul...           NaN   \n",
       "23952   Volcom Men's Iconic Stone Fleece 20\" SweatShorts           NaN   \n",
       "\n",
       "      Number of reviews Real price(Dollar)             Shipment Delivery Date  \\\n",
       "0                     2              14.00  Ships to Bangladesh   Thu, Jun 15   \n",
       "1                 1,652              22.00  Ships to Bangladesh   Thu, Jun 15   \n",
       "2               259,463              30.00  Ships to Bangladesh   Thu, Jun 15   \n",
       "3                52,469              26.00  Ships to Bangladesh   Thu, Jun 15   \n",
       "4                27,762              20.50  Ships to Bangladesh   Thu, Jun 15   \n",
       "...                 ...                ...                  ...           ...   \n",
       "23948                84               None  Ships to Bangladesh   Wed, Jun 21   \n",
       "23949                84               None  Ships to Bangladesh   Wed, Jun 21   \n",
       "23950                84               None  Ships to Bangladesh   Wed, Jun 21   \n",
       "23951                84               None                 & Up   Wed, Jun 21   \n",
       "23952                84               None                 & Up   Wed, Jun 21   \n",
       "\n",
       "      How many sell  in past month  \n",
       "0        10K+ bought in past month  \n",
       "1        10K+ bought in past month  \n",
       "2         6K+ bought in past month  \n",
       "3        10K+ bought in past month  \n",
       "4         7K+ bought in past month  \n",
       "...                            ...  \n",
       "23948    100+ bought in past month  \n",
       "23949    100+ bought in past month  \n",
       "23950    100+ bought in past month  \n",
       "23951    100+ bought in past month  \n",
       "23952    100+ bought in past month  \n",
       "\n",
       "[23953 rows x 7 columns]"
      ]
     },
     "execution_count": 83,
     "metadata": {},
     "output_type": "execute_result"
    }
   ],
   "source": [
    "data"
   ]
  },
  {
   "cell_type": "code",
   "execution_count": 84,
   "metadata": {},
   "outputs": [
    {
     "data": {
      "text/plain": [
       "(23953, 7)"
      ]
     },
     "execution_count": 84,
     "metadata": {},
     "output_type": "execute_result"
    }
   ],
   "source": [
    "data.shape\n"
   ]
  },
  {
   "cell_type": "code",
   "execution_count": null,
   "metadata": {},
   "outputs": [],
   "source": []
  }
 ],
 "metadata": {
  "kernelspec": {
   "display_name": "base",
   "language": "python",
   "name": "python3"
  },
  "language_info": {
   "codemirror_mode": {
    "name": "ipython",
    "version": 3
   },
   "file_extension": ".py",
   "mimetype": "text/x-python",
   "name": "python",
   "nbconvert_exporter": "python",
   "pygments_lexer": "ipython3",
   "version": "3.10.9"
  },
  "orig_nbformat": 4
 },
 "nbformat": 4,
 "nbformat_minor": 2
}
