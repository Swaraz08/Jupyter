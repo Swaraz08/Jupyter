{
 "cells": [
  {
   "cell_type": "code",
   "execution_count": 1,
   "metadata": {},
   "outputs": [],
   "source": [
    "import pandas as pd"
   ]
  },
  {
   "cell_type": "code",
   "execution_count": 57,
   "metadata": {},
   "outputs": [],
   "source": [
    "some_df=pd.read_csv('./data/amazon_men.csv',encoding='unicode_escape')"
   ]
  },
  {
   "cell_type": "code",
   "execution_count": 58,
   "metadata": {},
   "outputs": [
    {
     "data": {
      "text/html": [
       "<div>\n",
       "<style scoped>\n",
       "    .dataframe tbody tr th:only-of-type {\n",
       "        vertical-align: middle;\n",
       "    }\n",
       "\n",
       "    .dataframe tbody tr th {\n",
       "        vertical-align: top;\n",
       "    }\n",
       "\n",
       "    .dataframe thead th {\n",
       "        text-align: right;\n",
       "    }\n",
       "</style>\n",
       "<table border=\"1\" class=\"dataframe\">\n",
       "  <thead>\n",
       "    <tr style=\"text-align: right;\">\n",
       "      <th></th>\n",
       "      <th>Product Description</th>\n",
       "      <th>Price(Dollar)</th>\n",
       "      <th>Number of reviews</th>\n",
       "      <th>Real price(Dollar)</th>\n",
       "      <th>Shipment</th>\n",
       "      <th>Delivery Date</th>\n",
       "      <th>How many sell  in past month</th>\n",
       "    </tr>\n",
       "  </thead>\n",
       "  <tbody>\n",
       "    <tr>\n",
       "      <th>0</th>\n",
       "      <td>Vertx Cutback Mens Tactical Shorts 11 inches, ...</td>\n",
       "      <td>62</td>\n",
       "      <td>2</td>\n",
       "      <td>14.00</td>\n",
       "      <td>Ships to Bangladesh</td>\n",
       "      <td>Thu, Jun 15</td>\n",
       "      <td>10K+ bought in past month</td>\n",
       "    </tr>\n",
       "    <tr>\n",
       "      <th>1</th>\n",
       "      <td>Storelli Jumper Socks by Floky, Biomechanical ...</td>\n",
       "      <td>49</td>\n",
       "      <td>1,652</td>\n",
       "      <td>22.00</td>\n",
       "      <td>Ships to Bangladesh</td>\n",
       "      <td>Thu, Jun 15</td>\n",
       "      <td>10K+ bought in past month</td>\n",
       "    </tr>\n",
       "    <tr>\n",
       "      <th>2</th>\n",
       "      <td>Storelli Re-Charge Recovery Socks by Floky, Bi...</td>\n",
       "      <td>49</td>\n",
       "      <td>259,463</td>\n",
       "      <td>30.00</td>\n",
       "      <td>Ships to Bangladesh</td>\n",
       "      <td>Thu, Jun 15</td>\n",
       "      <td>6K+ bought in past month</td>\n",
       "    </tr>\n",
       "    <tr>\n",
       "      <th>3</th>\n",
       "      <td>Nike Men's Dri-Fit Training Cotton Cushioned C...</td>\n",
       "      <td>25</td>\n",
       "      <td>52,469</td>\n",
       "      <td>26.00</td>\n",
       "      <td>Ships to Bangladesh</td>\n",
       "      <td>Thu, Jun 15</td>\n",
       "      <td>10K+ bought in past month</td>\n",
       "    </tr>\n",
       "    <tr>\n",
       "      <th>4</th>\n",
       "      <td>Gildan Men's Crew T-Shirts, Multipack, Style G...</td>\n",
       "      <td>42</td>\n",
       "      <td>27,762</td>\n",
       "      <td>20.50</td>\n",
       "      <td>Ships to Bangladesh</td>\n",
       "      <td>Thu, Jun 15</td>\n",
       "      <td>7K+ bought in past month</td>\n",
       "    </tr>\n",
       "    <tr>\n",
       "      <th>...</th>\n",
       "      <td>...</td>\n",
       "      <td>...</td>\n",
       "      <td>...</td>\n",
       "      <td>...</td>\n",
       "      <td>...</td>\n",
       "      <td>...</td>\n",
       "      <td>...</td>\n",
       "    </tr>\n",
       "    <tr>\n",
       "      <th>23948</th>\n",
       "      <td>Amazon Essentials Men's Corduroy Chino Pants</td>\n",
       "      <td>37</td>\n",
       "      <td>84</td>\n",
       "      <td>None</td>\n",
       "      <td>Ships to Bangladesh</td>\n",
       "      <td>Wed, Jun 21</td>\n",
       "      <td>100+ bought in past month</td>\n",
       "    </tr>\n",
       "    <tr>\n",
       "      <th>23949</th>\n",
       "      <td>Paul Smith Men's Standard Short Long Zebra</td>\n",
       "      <td>NaN</td>\n",
       "      <td>84</td>\n",
       "      <td>None</td>\n",
       "      <td>Ships to Bangladesh</td>\n",
       "      <td>Wed, Jun 21</td>\n",
       "      <td>100+ bought in past month</td>\n",
       "    </tr>\n",
       "    <tr>\n",
       "      <th>23950</th>\n",
       "      <td>Tommy Bahama Long Sleeve Indigo Beach Camp Shirt</td>\n",
       "      <td>NaN</td>\n",
       "      <td>84</td>\n",
       "      <td>None</td>\n",
       "      <td>Ships to Bangladesh</td>\n",
       "      <td>Wed, Jun 21</td>\n",
       "      <td>100+ bought in past month</td>\n",
       "    </tr>\n",
       "    <tr>\n",
       "      <th>23951</th>\n",
       "      <td>Kanu Surf Men's South Beach Swim Trunks (Regul...</td>\n",
       "      <td>NaN</td>\n",
       "      <td>84</td>\n",
       "      <td>None</td>\n",
       "      <td>&amp; Up</td>\n",
       "      <td>Wed, Jun 21</td>\n",
       "      <td>100+ bought in past month</td>\n",
       "    </tr>\n",
       "    <tr>\n",
       "      <th>23952</th>\n",
       "      <td>Volcom Men's Iconic Stone Fleece 20\" SweatShorts</td>\n",
       "      <td>NaN</td>\n",
       "      <td>84</td>\n",
       "      <td>None</td>\n",
       "      <td>&amp; Up</td>\n",
       "      <td>Wed, Jun 21</td>\n",
       "      <td>100+ bought in past month</td>\n",
       "    </tr>\n",
       "  </tbody>\n",
       "</table>\n",
       "<p>23953 rows × 7 columns</p>\n",
       "</div>"
      ],
      "text/plain": [
       "                                    Product Description  Price(Dollar)  \\\n",
       "0      Vertx Cutback Mens Tactical Shorts 11 inches, ...            62   \n",
       "1      Storelli Jumper Socks by Floky, Biomechanical ...            49   \n",
       "2      Storelli Re-Charge Recovery Socks by Floky, Bi...            49   \n",
       "3      Nike Men's Dri-Fit Training Cotton Cushioned C...            25   \n",
       "4      Gildan Men's Crew T-Shirts, Multipack, Style G...            42   \n",
       "...                                                  ...           ...   \n",
       "23948       Amazon Essentials Men's Corduroy Chino Pants            37   \n",
       "23949         Paul Smith Men's Standard Short Long Zebra           NaN   \n",
       "23950   Tommy Bahama Long Sleeve Indigo Beach Camp Shirt           NaN   \n",
       "23951  Kanu Surf Men's South Beach Swim Trunks (Regul...           NaN   \n",
       "23952   Volcom Men's Iconic Stone Fleece 20\" SweatShorts           NaN   \n",
       "\n",
       "      Number of reviews Real price(Dollar)             Shipment Delivery Date  \\\n",
       "0                     2              14.00  Ships to Bangladesh   Thu, Jun 15   \n",
       "1                 1,652              22.00  Ships to Bangladesh   Thu, Jun 15   \n",
       "2               259,463              30.00  Ships to Bangladesh   Thu, Jun 15   \n",
       "3                52,469              26.00  Ships to Bangladesh   Thu, Jun 15   \n",
       "4                27,762              20.50  Ships to Bangladesh   Thu, Jun 15   \n",
       "...                 ...                ...                  ...           ...   \n",
       "23948                84               None  Ships to Bangladesh   Wed, Jun 21   \n",
       "23949                84               None  Ships to Bangladesh   Wed, Jun 21   \n",
       "23950                84               None  Ships to Bangladesh   Wed, Jun 21   \n",
       "23951                84               None                 & Up   Wed, Jun 21   \n",
       "23952                84               None                 & Up   Wed, Jun 21   \n",
       "\n",
       "      How many sell  in past month  \n",
       "0        10K+ bought in past month  \n",
       "1        10K+ bought in past month  \n",
       "2         6K+ bought in past month  \n",
       "3        10K+ bought in past month  \n",
       "4         7K+ bought in past month  \n",
       "...                            ...  \n",
       "23948    100+ bought in past month  \n",
       "23949    100+ bought in past month  \n",
       "23950    100+ bought in past month  \n",
       "23951    100+ bought in past month  \n",
       "23952    100+ bought in past month  \n",
       "\n",
       "[23953 rows x 7 columns]"
      ]
     },
     "execution_count": 58,
     "metadata": {},
     "output_type": "execute_result"
    }
   ],
   "source": [
    "some_df"
   ]
  },
  {
   "attachments": {},
   "cell_type": "markdown",
   "metadata": {},
   "source": [
    "### Information of data frame"
   ]
  },
  {
   "cell_type": "code",
   "execution_count": 59,
   "metadata": {},
   "outputs": [
    {
     "name": "stdout",
     "output_type": "stream",
     "text": [
      "<class 'pandas.core.frame.DataFrame'>\n",
      "RangeIndex: 23953 entries, 0 to 23952\n",
      "Data columns (total 7 columns):\n",
      " #   Column                        Non-Null Count  Dtype \n",
      "---  ------                        --------------  ----- \n",
      " 0   Product Description           23953 non-null  object\n",
      " 1   Price(Dollar)                 22946 non-null  object\n",
      " 2   Number of reviews             23953 non-null  object\n",
      " 3   Real price(Dollar)            23953 non-null  object\n",
      " 4   Shipment                      23953 non-null  object\n",
      " 5   Delivery Date                 23953 non-null  object\n",
      " 6   How many sell  in past month  23953 non-null  object\n",
      "dtypes: object(7)\n",
      "memory usage: 1.3+ MB\n"
     ]
    }
   ],
   "source": [
    "some_df.info()"
   ]
  },
  {
   "attachments": {},
   "cell_type": "markdown",
   "metadata": {},
   "source": [
    "### Overview of data"
   ]
  },
  {
   "cell_type": "code",
   "execution_count": 60,
   "metadata": {},
   "outputs": [
    {
     "data": {
      "text/html": [
       "<div>\n",
       "<style scoped>\n",
       "    .dataframe tbody tr th:only-of-type {\n",
       "        vertical-align: middle;\n",
       "    }\n",
       "\n",
       "    .dataframe tbody tr th {\n",
       "        vertical-align: top;\n",
       "    }\n",
       "\n",
       "    .dataframe thead th {\n",
       "        text-align: right;\n",
       "    }\n",
       "</style>\n",
       "<table border=\"1\" class=\"dataframe\">\n",
       "  <thead>\n",
       "    <tr style=\"text-align: right;\">\n",
       "      <th></th>\n",
       "      <th>Product Description</th>\n",
       "      <th>Price(Dollar)</th>\n",
       "      <th>Number of reviews</th>\n",
       "      <th>Real price(Dollar)</th>\n",
       "      <th>Shipment</th>\n",
       "      <th>Delivery Date</th>\n",
       "      <th>How many sell  in past month</th>\n",
       "    </tr>\n",
       "  </thead>\n",
       "  <tbody>\n",
       "    <tr>\n",
       "      <th>count</th>\n",
       "      <td>23953</td>\n",
       "      <td>22946</td>\n",
       "      <td>23953</td>\n",
       "      <td>23953</td>\n",
       "      <td>23953</td>\n",
       "      <td>23953</td>\n",
       "      <td>23953</td>\n",
       "    </tr>\n",
       "    <tr>\n",
       "      <th>unique</th>\n",
       "      <td>17013</td>\n",
       "      <td>310</td>\n",
       "      <td>2614</td>\n",
       "      <td>1141</td>\n",
       "      <td>2</td>\n",
       "      <td>4</td>\n",
       "      <td>21</td>\n",
       "    </tr>\n",
       "    <tr>\n",
       "      <th>top</th>\n",
       "      <td>Fair Indigo Men's Organic All-Cotton V-Neck Ca...</td>\n",
       "      <td>49</td>\n",
       "      <td>28</td>\n",
       "      <td>None</td>\n",
       "      <td>Ships to Bangladesh</td>\n",
       "      <td>Mon, Jun 26</td>\n",
       "      <td>50+ bought in past month</td>\n",
       "    </tr>\n",
       "    <tr>\n",
       "      <th>freq</th>\n",
       "      <td>402</td>\n",
       "      <td>1894</td>\n",
       "      <td>3321</td>\n",
       "      <td>14298</td>\n",
       "      <td>23720</td>\n",
       "      <td>11260</td>\n",
       "      <td>9453</td>\n",
       "    </tr>\n",
       "  </tbody>\n",
       "</table>\n",
       "</div>"
      ],
      "text/plain": [
       "                                     Product Description  Price(Dollar)  \\\n",
       "count                                               23953         22946   \n",
       "unique                                              17013           310   \n",
       "top     Fair Indigo Men's Organic All-Cotton V-Neck Ca...            49   \n",
       "freq                                                  402          1894   \n",
       "\n",
       "       Number of reviews Real price(Dollar)             Shipment  \\\n",
       "count              23953              23953                23953   \n",
       "unique              2614               1141                    2   \n",
       "top                   28               None  Ships to Bangladesh   \n",
       "freq                3321              14298                23720   \n",
       "\n",
       "       Delivery Date How many sell  in past month  \n",
       "count          23953                        23953  \n",
       "unique             4                           21  \n",
       "top      Mon, Jun 26     50+ bought in past month  \n",
       "freq           11260                         9453  "
      ]
     },
     "execution_count": 60,
     "metadata": {},
     "output_type": "execute_result"
    }
   ],
   "source": [
    "some_df.describe()"
   ]
  },
  {
   "cell_type": "code",
   "execution_count": 61,
   "metadata": {},
   "outputs": [
    {
     "data": {
      "text/plain": [
       "Index(['Product Description ', 'Price(Dollar)', 'Number of reviews',\n",
       "       'Real price(Dollar)', 'Shipment', 'Delivery Date',\n",
       "       'How many sell  in past month'],\n",
       "      dtype='object')"
      ]
     },
     "execution_count": 61,
     "metadata": {},
     "output_type": "execute_result"
    }
   ],
   "source": [
    "some_df.columns"
   ]
  },
  {
   "cell_type": "code",
   "execution_count": 62,
   "metadata": {},
   "outputs": [
    {
     "data": {
      "text/plain": [
       "(23953, 7)"
      ]
     },
     "execution_count": 62,
     "metadata": {},
     "output_type": "execute_result"
    }
   ],
   "source": [
    "some_df.shape"
   ]
  },
  {
   "cell_type": "code",
   "execution_count": 63,
   "metadata": {},
   "outputs": [
    {
     "data": {
      "text/html": [
       "<div>\n",
       "<style scoped>\n",
       "    .dataframe tbody tr th:only-of-type {\n",
       "        vertical-align: middle;\n",
       "    }\n",
       "\n",
       "    .dataframe tbody tr th {\n",
       "        vertical-align: top;\n",
       "    }\n",
       "\n",
       "    .dataframe thead th {\n",
       "        text-align: right;\n",
       "    }\n",
       "</style>\n",
       "<table border=\"1\" class=\"dataframe\">\n",
       "  <thead>\n",
       "    <tr style=\"text-align: right;\">\n",
       "      <th></th>\n",
       "      <th>Product Description</th>\n",
       "      <th>Price(Dollar)</th>\n",
       "      <th>Number of reviews</th>\n",
       "      <th>Real price(Dollar)</th>\n",
       "      <th>Shipment</th>\n",
       "      <th>Delivery Date</th>\n",
       "      <th>How many sell  in past month</th>\n",
       "    </tr>\n",
       "  </thead>\n",
       "  <tbody>\n",
       "    <tr>\n",
       "      <th>0</th>\n",
       "      <td>Vertx Cutback Mens Tactical Shorts 11 inches, ...</td>\n",
       "      <td>62</td>\n",
       "      <td>2</td>\n",
       "      <td>14.00</td>\n",
       "      <td>Ships to Bangladesh</td>\n",
       "      <td>Thu, Jun 15</td>\n",
       "      <td>10K+ bought in past month</td>\n",
       "    </tr>\n",
       "    <tr>\n",
       "      <th>1</th>\n",
       "      <td>Storelli Jumper Socks by Floky, Biomechanical ...</td>\n",
       "      <td>49</td>\n",
       "      <td>1,652</td>\n",
       "      <td>22.00</td>\n",
       "      <td>Ships to Bangladesh</td>\n",
       "      <td>Thu, Jun 15</td>\n",
       "      <td>10K+ bought in past month</td>\n",
       "    </tr>\n",
       "    <tr>\n",
       "      <th>2</th>\n",
       "      <td>Storelli Re-Charge Recovery Socks by Floky, Bi...</td>\n",
       "      <td>49</td>\n",
       "      <td>259,463</td>\n",
       "      <td>30.00</td>\n",
       "      <td>Ships to Bangladesh</td>\n",
       "      <td>Thu, Jun 15</td>\n",
       "      <td>6K+ bought in past month</td>\n",
       "    </tr>\n",
       "    <tr>\n",
       "      <th>3</th>\n",
       "      <td>Nike Men's Dri-Fit Training Cotton Cushioned C...</td>\n",
       "      <td>25</td>\n",
       "      <td>52,469</td>\n",
       "      <td>26.00</td>\n",
       "      <td>Ships to Bangladesh</td>\n",
       "      <td>Thu, Jun 15</td>\n",
       "      <td>10K+ bought in past month</td>\n",
       "    </tr>\n",
       "    <tr>\n",
       "      <th>4</th>\n",
       "      <td>Gildan Men's Crew T-Shirts, Multipack, Style G...</td>\n",
       "      <td>42</td>\n",
       "      <td>27,762</td>\n",
       "      <td>20.50</td>\n",
       "      <td>Ships to Bangladesh</td>\n",
       "      <td>Thu, Jun 15</td>\n",
       "      <td>7K+ bought in past month</td>\n",
       "    </tr>\n",
       "    <tr>\n",
       "      <th>...</th>\n",
       "      <td>...</td>\n",
       "      <td>...</td>\n",
       "      <td>...</td>\n",
       "      <td>...</td>\n",
       "      <td>...</td>\n",
       "      <td>...</td>\n",
       "      <td>...</td>\n",
       "    </tr>\n",
       "    <tr>\n",
       "      <th>23948</th>\n",
       "      <td>Amazon Essentials Men's Corduroy Chino Pants</td>\n",
       "      <td>37</td>\n",
       "      <td>84</td>\n",
       "      <td>None</td>\n",
       "      <td>Ships to Bangladesh</td>\n",
       "      <td>Wed, Jun 21</td>\n",
       "      <td>100+ bought in past month</td>\n",
       "    </tr>\n",
       "    <tr>\n",
       "      <th>23949</th>\n",
       "      <td>Paul Smith Men's Standard Short Long Zebra</td>\n",
       "      <td>NaN</td>\n",
       "      <td>84</td>\n",
       "      <td>None</td>\n",
       "      <td>Ships to Bangladesh</td>\n",
       "      <td>Wed, Jun 21</td>\n",
       "      <td>100+ bought in past month</td>\n",
       "    </tr>\n",
       "    <tr>\n",
       "      <th>23950</th>\n",
       "      <td>Tommy Bahama Long Sleeve Indigo Beach Camp Shirt</td>\n",
       "      <td>NaN</td>\n",
       "      <td>84</td>\n",
       "      <td>None</td>\n",
       "      <td>Ships to Bangladesh</td>\n",
       "      <td>Wed, Jun 21</td>\n",
       "      <td>100+ bought in past month</td>\n",
       "    </tr>\n",
       "    <tr>\n",
       "      <th>23951</th>\n",
       "      <td>Kanu Surf Men's South Beach Swim Trunks (Regul...</td>\n",
       "      <td>NaN</td>\n",
       "      <td>84</td>\n",
       "      <td>None</td>\n",
       "      <td>&amp; Up</td>\n",
       "      <td>Wed, Jun 21</td>\n",
       "      <td>100+ bought in past month</td>\n",
       "    </tr>\n",
       "    <tr>\n",
       "      <th>23952</th>\n",
       "      <td>Volcom Men's Iconic Stone Fleece 20\" SweatShorts</td>\n",
       "      <td>NaN</td>\n",
       "      <td>84</td>\n",
       "      <td>None</td>\n",
       "      <td>&amp; Up</td>\n",
       "      <td>Wed, Jun 21</td>\n",
       "      <td>100+ bought in past month</td>\n",
       "    </tr>\n",
       "  </tbody>\n",
       "</table>\n",
       "<p>23953 rows × 7 columns</p>\n",
       "</div>"
      ],
      "text/plain": [
       "                                    Product Description  Price(Dollar)  \\\n",
       "0      Vertx Cutback Mens Tactical Shorts 11 inches, ...            62   \n",
       "1      Storelli Jumper Socks by Floky, Biomechanical ...            49   \n",
       "2      Storelli Re-Charge Recovery Socks by Floky, Bi...            49   \n",
       "3      Nike Men's Dri-Fit Training Cotton Cushioned C...            25   \n",
       "4      Gildan Men's Crew T-Shirts, Multipack, Style G...            42   \n",
       "...                                                  ...           ...   \n",
       "23948       Amazon Essentials Men's Corduroy Chino Pants            37   \n",
       "23949         Paul Smith Men's Standard Short Long Zebra           NaN   \n",
       "23950   Tommy Bahama Long Sleeve Indigo Beach Camp Shirt           NaN   \n",
       "23951  Kanu Surf Men's South Beach Swim Trunks (Regul...           NaN   \n",
       "23952   Volcom Men's Iconic Stone Fleece 20\" SweatShorts           NaN   \n",
       "\n",
       "      Number of reviews Real price(Dollar)             Shipment Delivery Date  \\\n",
       "0                     2              14.00  Ships to Bangladesh   Thu, Jun 15   \n",
       "1                 1,652              22.00  Ships to Bangladesh   Thu, Jun 15   \n",
       "2               259,463              30.00  Ships to Bangladesh   Thu, Jun 15   \n",
       "3                52,469              26.00  Ships to Bangladesh   Thu, Jun 15   \n",
       "4                27,762              20.50  Ships to Bangladesh   Thu, Jun 15   \n",
       "...                 ...                ...                  ...           ...   \n",
       "23948                84               None  Ships to Bangladesh   Wed, Jun 21   \n",
       "23949                84               None  Ships to Bangladesh   Wed, Jun 21   \n",
       "23950                84               None  Ships to Bangladesh   Wed, Jun 21   \n",
       "23951                84               None                 & Up   Wed, Jun 21   \n",
       "23952                84               None                 & Up   Wed, Jun 21   \n",
       "\n",
       "      How many sell  in past month  \n",
       "0        10K+ bought in past month  \n",
       "1        10K+ bought in past month  \n",
       "2         6K+ bought in past month  \n",
       "3        10K+ bought in past month  \n",
       "4         7K+ bought in past month  \n",
       "...                            ...  \n",
       "23948    100+ bought in past month  \n",
       "23949    100+ bought in past month  \n",
       "23950    100+ bought in past month  \n",
       "23951    100+ bought in past month  \n",
       "23952    100+ bought in past month  \n",
       "\n",
       "[23953 rows x 7 columns]"
      ]
     },
     "execution_count": 63,
     "metadata": {},
     "output_type": "execute_result"
    }
   ],
   "source": [
    "some_df"
   ]
  },
  {
   "attachments": {},
   "cell_type": "markdown",
   "metadata": {},
   "source": [
    "#### How to find the row which have first meaningful value"
   ]
  },
  {
   "cell_type": "code",
   "execution_count": 64,
   "metadata": {},
   "outputs": [
    {
     "data": {
      "text/plain": [
       "0"
      ]
     },
     "execution_count": 64,
     "metadata": {},
     "output_type": "execute_result"
    }
   ],
   "source": [
    "some_df.Shipment.first_valid_index()"
   ]
  },
  {
   "cell_type": "code",
   "execution_count": 65,
   "metadata": {},
   "outputs": [],
   "source": [
    "some_df_dict={\n",
    "    'price':[62,49,49,25,42],\n",
    "    'reviews':[2,1652,256463,52469,27762],\n",
    "    'act_price':[14.0,22.0,30.0,26.0,20.5]\n",
    "}"
   ]
  },
  {
   "cell_type": "code",
   "execution_count": 66,
   "metadata": {},
   "outputs": [
    {
     "data": {
      "text/plain": [
       "{'price': [62, 49, 49, 25, 42],\n",
       " 'reviews': [2, 1652, 256463, 52469, 27762],\n",
       " 'act_price': [14.0, 22.0, 30.0, 26.0, 20.5]}"
      ]
     },
     "execution_count": 66,
     "metadata": {},
     "output_type": "execute_result"
    }
   ],
   "source": [
    "some_df_dict"
   ]
  },
  {
   "cell_type": "code",
   "execution_count": 67,
   "metadata": {},
   "outputs": [
    {
     "data": {
      "text/plain": [
       "[62, 49, 49, 25, 42]"
      ]
     },
     "execution_count": 67,
     "metadata": {},
     "output_type": "execute_result"
    }
   ],
   "source": [
    "some_df_dict['price']"
   ]
  },
  {
   "cell_type": "code",
   "execution_count": 68,
   "metadata": {},
   "outputs": [
    {
     "data": {
      "text/plain": [
       "0         62\n",
       "1         49\n",
       "2         49\n",
       "3         25\n",
       "4         42\n",
       "        ... \n",
       "23948     37\n",
       "23949    NaN\n",
       "23950    NaN\n",
       "23951    NaN\n",
       "23952    NaN\n",
       "Name: Price(Dollar), Length: 23953, dtype: object"
      ]
     },
     "execution_count": 68,
     "metadata": {},
     "output_type": "execute_result"
    }
   ],
   "source": [
    "some_df['Price(Dollar)']"
   ]
  },
  {
   "cell_type": "code",
   "execution_count": 69,
   "metadata": {},
   "outputs": [
    {
     "data": {
      "text/plain": [
       "pandas.core.series.Series"
      ]
     },
     "execution_count": 69,
     "metadata": {},
     "output_type": "execute_result"
    }
   ],
   "source": [
    "type(some_df['Price(Dollar)'])"
   ]
  },
  {
   "cell_type": "code",
   "execution_count": 70,
   "metadata": {},
   "outputs": [
    {
     "data": {
      "text/plain": [
       "'42'"
      ]
     },
     "execution_count": 70,
     "metadata": {},
     "output_type": "execute_result"
    }
   ],
   "source": [
    "some_df['Price(Dollar)'][4]"
   ]
  },
  {
   "cell_type": "code",
   "execution_count": 71,
   "metadata": {},
   "outputs": [
    {
     "data": {
      "text/plain": [
       "'42'"
      ]
     },
     "execution_count": 71,
     "metadata": {},
     "output_type": "execute_result"
    }
   ],
   "source": [
    "some_df.at[4,'Price(Dollar)']"
   ]
  },
  {
   "cell_type": "code",
   "execution_count": 72,
   "metadata": {},
   "outputs": [
    {
     "data": {
      "text/plain": [
       "0        Ships to Bangladesh\n",
       "1        Ships to Bangladesh\n",
       "2        Ships to Bangladesh\n",
       "3        Ships to Bangladesh\n",
       "4        Ships to Bangladesh\n",
       "                ...         \n",
       "23948    Ships to Bangladesh\n",
       "23949    Ships to Bangladesh\n",
       "23950    Ships to Bangladesh\n",
       "23951                   & Up\n",
       "23952                   & Up\n",
       "Name: Shipment, Length: 23953, dtype: object"
      ]
     },
     "execution_count": 72,
     "metadata": {},
     "output_type": "execute_result"
    }
   ],
   "source": [
    "some_df.Shipment"
   ]
  },
  {
   "attachments": {},
   "cell_type": "markdown",
   "metadata": {},
   "source": [
    "### If we change the data in the data frame which are derived from the same data frame then the original data will be changed"
   ]
  },
  {
   "cell_type": "code",
   "execution_count": 73,
   "metadata": {},
   "outputs": [
    {
     "data": {
      "text/html": [
       "<div>\n",
       "<style scoped>\n",
       "    .dataframe tbody tr th:only-of-type {\n",
       "        vertical-align: middle;\n",
       "    }\n",
       "\n",
       "    .dataframe tbody tr th {\n",
       "        vertical-align: top;\n",
       "    }\n",
       "\n",
       "    .dataframe thead th {\n",
       "        text-align: right;\n",
       "    }\n",
       "</style>\n",
       "<table border=\"1\" class=\"dataframe\">\n",
       "  <thead>\n",
       "    <tr style=\"text-align: right;\">\n",
       "      <th></th>\n",
       "      <th>Price(Dollar)</th>\n",
       "      <th>Number of reviews</th>\n",
       "      <th>Real price(Dollar)</th>\n",
       "    </tr>\n",
       "  </thead>\n",
       "  <tbody>\n",
       "    <tr>\n",
       "      <th>0</th>\n",
       "      <td>62</td>\n",
       "      <td>2</td>\n",
       "      <td>14.00</td>\n",
       "    </tr>\n",
       "    <tr>\n",
       "      <th>1</th>\n",
       "      <td>49</td>\n",
       "      <td>1,652</td>\n",
       "      <td>22.00</td>\n",
       "    </tr>\n",
       "    <tr>\n",
       "      <th>2</th>\n",
       "      <td>49</td>\n",
       "      <td>259,463</td>\n",
       "      <td>30.00</td>\n",
       "    </tr>\n",
       "    <tr>\n",
       "      <th>3</th>\n",
       "      <td>25</td>\n",
       "      <td>52,469</td>\n",
       "      <td>26.00</td>\n",
       "    </tr>\n",
       "    <tr>\n",
       "      <th>4</th>\n",
       "      <td>42</td>\n",
       "      <td>27,762</td>\n",
       "      <td>20.50</td>\n",
       "    </tr>\n",
       "    <tr>\n",
       "      <th>...</th>\n",
       "      <td>...</td>\n",
       "      <td>...</td>\n",
       "      <td>...</td>\n",
       "    </tr>\n",
       "    <tr>\n",
       "      <th>23948</th>\n",
       "      <td>37</td>\n",
       "      <td>84</td>\n",
       "      <td>None</td>\n",
       "    </tr>\n",
       "    <tr>\n",
       "      <th>23949</th>\n",
       "      <td>NaN</td>\n",
       "      <td>84</td>\n",
       "      <td>None</td>\n",
       "    </tr>\n",
       "    <tr>\n",
       "      <th>23950</th>\n",
       "      <td>NaN</td>\n",
       "      <td>84</td>\n",
       "      <td>None</td>\n",
       "    </tr>\n",
       "    <tr>\n",
       "      <th>23951</th>\n",
       "      <td>NaN</td>\n",
       "      <td>84</td>\n",
       "      <td>None</td>\n",
       "    </tr>\n",
       "    <tr>\n",
       "      <th>23952</th>\n",
       "      <td>NaN</td>\n",
       "      <td>84</td>\n",
       "      <td>None</td>\n",
       "    </tr>\n",
       "  </tbody>\n",
       "</table>\n",
       "<p>23953 rows × 3 columns</p>\n",
       "</div>"
      ],
      "text/plain": [
       "      Price(Dollar) Number of reviews Real price(Dollar)\n",
       "0                62                 2              14.00\n",
       "1                49             1,652              22.00\n",
       "2                49           259,463              30.00\n",
       "3                25            52,469              26.00\n",
       "4                42            27,762              20.50\n",
       "...             ...               ...                ...\n",
       "23948            37                84               None\n",
       "23949           NaN                84               None\n",
       "23950           NaN                84               None\n",
       "23951           NaN                84               None\n",
       "23952           NaN                84               None\n",
       "\n",
       "[23953 rows x 3 columns]"
      ]
     },
     "execution_count": 73,
     "metadata": {},
     "output_type": "execute_result"
    }
   ],
   "source": [
    "some_df=some_df[['Price(Dollar)','Number of reviews','Real price(Dollar)']]\n",
    "some_df"
   ]
  },
  {
   "attachments": {},
   "cell_type": "markdown",
   "metadata": {},
   "source": [
    "### But if we copy the data to another data frame then the original value is not changed"
   ]
  },
  {
   "cell_type": "code",
   "execution_count": 74,
   "metadata": {},
   "outputs": [],
   "source": [
    "another_data=some_df.copy()"
   ]
  },
  {
   "cell_type": "code",
   "execution_count": 75,
   "metadata": {},
   "outputs": [
    {
     "data": {
      "text/html": [
       "<div>\n",
       "<style scoped>\n",
       "    .dataframe tbody tr th:only-of-type {\n",
       "        vertical-align: middle;\n",
       "    }\n",
       "\n",
       "    .dataframe tbody tr th {\n",
       "        vertical-align: top;\n",
       "    }\n",
       "\n",
       "    .dataframe thead th {\n",
       "        text-align: right;\n",
       "    }\n",
       "</style>\n",
       "<table border=\"1\" class=\"dataframe\">\n",
       "  <thead>\n",
       "    <tr style=\"text-align: right;\">\n",
       "      <th></th>\n",
       "      <th>Price(Dollar)</th>\n",
       "      <th>Number of reviews</th>\n",
       "      <th>Real price(Dollar)</th>\n",
       "    </tr>\n",
       "  </thead>\n",
       "  <tbody>\n",
       "    <tr>\n",
       "      <th>0</th>\n",
       "      <td>62</td>\n",
       "      <td>2</td>\n",
       "      <td>14.00</td>\n",
       "    </tr>\n",
       "    <tr>\n",
       "      <th>1</th>\n",
       "      <td>49</td>\n",
       "      <td>1,652</td>\n",
       "      <td>22.00</td>\n",
       "    </tr>\n",
       "    <tr>\n",
       "      <th>2</th>\n",
       "      <td>49</td>\n",
       "      <td>259,463</td>\n",
       "      <td>30.00</td>\n",
       "    </tr>\n",
       "    <tr>\n",
       "      <th>3</th>\n",
       "      <td>25</td>\n",
       "      <td>52,469</td>\n",
       "      <td>26.00</td>\n",
       "    </tr>\n",
       "    <tr>\n",
       "      <th>4</th>\n",
       "      <td>42</td>\n",
       "      <td>27,762</td>\n",
       "      <td>20.50</td>\n",
       "    </tr>\n",
       "    <tr>\n",
       "      <th>...</th>\n",
       "      <td>...</td>\n",
       "      <td>...</td>\n",
       "      <td>...</td>\n",
       "    </tr>\n",
       "    <tr>\n",
       "      <th>23948</th>\n",
       "      <td>37</td>\n",
       "      <td>84</td>\n",
       "      <td>None</td>\n",
       "    </tr>\n",
       "    <tr>\n",
       "      <th>23949</th>\n",
       "      <td>NaN</td>\n",
       "      <td>84</td>\n",
       "      <td>None</td>\n",
       "    </tr>\n",
       "    <tr>\n",
       "      <th>23950</th>\n",
       "      <td>NaN</td>\n",
       "      <td>84</td>\n",
       "      <td>None</td>\n",
       "    </tr>\n",
       "    <tr>\n",
       "      <th>23951</th>\n",
       "      <td>NaN</td>\n",
       "      <td>84</td>\n",
       "      <td>None</td>\n",
       "    </tr>\n",
       "    <tr>\n",
       "      <th>23952</th>\n",
       "      <td>NaN</td>\n",
       "      <td>84</td>\n",
       "      <td>None</td>\n",
       "    </tr>\n",
       "  </tbody>\n",
       "</table>\n",
       "<p>23953 rows × 3 columns</p>\n",
       "</div>"
      ],
      "text/plain": [
       "      Price(Dollar) Number of reviews Real price(Dollar)\n",
       "0                62                 2              14.00\n",
       "1                49             1,652              22.00\n",
       "2                49           259,463              30.00\n",
       "3                25            52,469              26.00\n",
       "4                42            27,762              20.50\n",
       "...             ...               ...                ...\n",
       "23948            37                84               None\n",
       "23949           NaN                84               None\n",
       "23950           NaN                84               None\n",
       "23951           NaN                84               None\n",
       "23952           NaN                84               None\n",
       "\n",
       "[23953 rows x 3 columns]"
      ]
     },
     "execution_count": 75,
     "metadata": {},
     "output_type": "execute_result"
    }
   ],
   "source": [
    "another_data"
   ]
  },
  {
   "attachments": {},
   "cell_type": "markdown",
   "metadata": {},
   "source": [
    "#### Accessing a row"
   ]
  },
  {
   "cell_type": "code",
   "execution_count": 76,
   "metadata": {},
   "outputs": [
    {
     "data": {
      "text/plain": [
       "Price(Dollar)             42\n",
       "Number of reviews     27,762\n",
       "Real price(Dollar)     20.50\n",
       "Name: 4, dtype: object"
      ]
     },
     "execution_count": 76,
     "metadata": {},
     "output_type": "execute_result"
    }
   ],
   "source": [
    "another_data.loc[4]"
   ]
  },
  {
   "attachments": {},
   "cell_type": "markdown",
   "metadata": {},
   "source": [
    "#### Accessing first 5 rows"
   ]
  },
  {
   "cell_type": "code",
   "execution_count": 77,
   "metadata": {},
   "outputs": [
    {
     "data": {
      "text/html": [
       "<div>\n",
       "<style scoped>\n",
       "    .dataframe tbody tr th:only-of-type {\n",
       "        vertical-align: middle;\n",
       "    }\n",
       "\n",
       "    .dataframe tbody tr th {\n",
       "        vertical-align: top;\n",
       "    }\n",
       "\n",
       "    .dataframe thead th {\n",
       "        text-align: right;\n",
       "    }\n",
       "</style>\n",
       "<table border=\"1\" class=\"dataframe\">\n",
       "  <thead>\n",
       "    <tr style=\"text-align: right;\">\n",
       "      <th></th>\n",
       "      <th>Price(Dollar)</th>\n",
       "      <th>Number of reviews</th>\n",
       "      <th>Real price(Dollar)</th>\n",
       "    </tr>\n",
       "  </thead>\n",
       "  <tbody>\n",
       "    <tr>\n",
       "      <th>0</th>\n",
       "      <td>62</td>\n",
       "      <td>2</td>\n",
       "      <td>14.00</td>\n",
       "    </tr>\n",
       "    <tr>\n",
       "      <th>1</th>\n",
       "      <td>49</td>\n",
       "      <td>1,652</td>\n",
       "      <td>22.00</td>\n",
       "    </tr>\n",
       "    <tr>\n",
       "      <th>2</th>\n",
       "      <td>49</td>\n",
       "      <td>259,463</td>\n",
       "      <td>30.00</td>\n",
       "    </tr>\n",
       "    <tr>\n",
       "      <th>3</th>\n",
       "      <td>25</td>\n",
       "      <td>52,469</td>\n",
       "      <td>26.00</td>\n",
       "    </tr>\n",
       "    <tr>\n",
       "      <th>4</th>\n",
       "      <td>42</td>\n",
       "      <td>27,762</td>\n",
       "      <td>20.50</td>\n",
       "    </tr>\n",
       "  </tbody>\n",
       "</table>\n",
       "</div>"
      ],
      "text/plain": [
       "  Price(Dollar) Number of reviews Real price(Dollar)\n",
       "0            62                 2              14.00\n",
       "1            49             1,652              22.00\n",
       "2            49           259,463              30.00\n",
       "3            25            52,469              26.00\n",
       "4            42            27,762              20.50"
      ]
     },
     "execution_count": 77,
     "metadata": {},
     "output_type": "execute_result"
    }
   ],
   "source": [
    "another_data.head(5)"
   ]
  },
  {
   "attachments": {},
   "cell_type": "markdown",
   "metadata": {},
   "source": [
    "#### Accessing last 5 rows"
   ]
  },
  {
   "cell_type": "code",
   "execution_count": 78,
   "metadata": {},
   "outputs": [
    {
     "data": {
      "text/html": [
       "<div>\n",
       "<style scoped>\n",
       "    .dataframe tbody tr th:only-of-type {\n",
       "        vertical-align: middle;\n",
       "    }\n",
       "\n",
       "    .dataframe tbody tr th {\n",
       "        vertical-align: top;\n",
       "    }\n",
       "\n",
       "    .dataframe thead th {\n",
       "        text-align: right;\n",
       "    }\n",
       "</style>\n",
       "<table border=\"1\" class=\"dataframe\">\n",
       "  <thead>\n",
       "    <tr style=\"text-align: right;\">\n",
       "      <th></th>\n",
       "      <th>Price(Dollar)</th>\n",
       "      <th>Number of reviews</th>\n",
       "      <th>Real price(Dollar)</th>\n",
       "    </tr>\n",
       "  </thead>\n",
       "  <tbody>\n",
       "    <tr>\n",
       "      <th>23948</th>\n",
       "      <td>37</td>\n",
       "      <td>84</td>\n",
       "      <td>None</td>\n",
       "    </tr>\n",
       "    <tr>\n",
       "      <th>23949</th>\n",
       "      <td>NaN</td>\n",
       "      <td>84</td>\n",
       "      <td>None</td>\n",
       "    </tr>\n",
       "    <tr>\n",
       "      <th>23950</th>\n",
       "      <td>NaN</td>\n",
       "      <td>84</td>\n",
       "      <td>None</td>\n",
       "    </tr>\n",
       "    <tr>\n",
       "      <th>23951</th>\n",
       "      <td>NaN</td>\n",
       "      <td>84</td>\n",
       "      <td>None</td>\n",
       "    </tr>\n",
       "    <tr>\n",
       "      <th>23952</th>\n",
       "      <td>NaN</td>\n",
       "      <td>84</td>\n",
       "      <td>None</td>\n",
       "    </tr>\n",
       "  </tbody>\n",
       "</table>\n",
       "</div>"
      ],
      "text/plain": [
       "      Price(Dollar) Number of reviews Real price(Dollar)\n",
       "23948            37                84               None\n",
       "23949           NaN                84               None\n",
       "23950           NaN                84               None\n",
       "23951           NaN                84               None\n",
       "23952           NaN                84               None"
      ]
     },
     "execution_count": 78,
     "metadata": {},
     "output_type": "execute_result"
    }
   ],
   "source": [
    "some_df.tail(5)"
   ]
  },
  {
   "cell_type": "code",
   "execution_count": 79,
   "metadata": {},
   "outputs": [
    {
     "data": {
      "text/plain": [
       "'None'"
      ]
     },
     "execution_count": 79,
     "metadata": {},
     "output_type": "execute_result"
    }
   ],
   "source": [
    "some_df.at[23948,'Real price(Dollar)']"
   ]
  },
  {
   "cell_type": "code",
   "execution_count": 80,
   "metadata": {},
   "outputs": [
    {
     "data": {
      "text/plain": [
       "str"
      ]
     },
     "execution_count": 80,
     "metadata": {},
     "output_type": "execute_result"
    }
   ],
   "source": [
    "type(some_df.at[23948,'Real price(Dollar)'])"
   ]
  },
  {
   "attachments": {},
   "cell_type": "markdown",
   "metadata": {},
   "source": [
    "#### Accessing a range of rows"
   ]
  },
  {
   "cell_type": "code",
   "execution_count": 82,
   "metadata": {},
   "outputs": [
    {
     "data": {
      "text/html": [
       "<div>\n",
       "<style scoped>\n",
       "    .dataframe tbody tr th:only-of-type {\n",
       "        vertical-align: middle;\n",
       "    }\n",
       "\n",
       "    .dataframe tbody tr th {\n",
       "        vertical-align: top;\n",
       "    }\n",
       "\n",
       "    .dataframe thead th {\n",
       "        text-align: right;\n",
       "    }\n",
       "</style>\n",
       "<table border=\"1\" class=\"dataframe\">\n",
       "  <thead>\n",
       "    <tr style=\"text-align: right;\">\n",
       "      <th></th>\n",
       "      <th>Price(Dollar)</th>\n",
       "      <th>Number of reviews</th>\n",
       "      <th>Real price(Dollar)</th>\n",
       "    </tr>\n",
       "  </thead>\n",
       "  <tbody>\n",
       "    <tr>\n",
       "      <th>0</th>\n",
       "      <td>62</td>\n",
       "      <td>2</td>\n",
       "      <td>14.00</td>\n",
       "    </tr>\n",
       "    <tr>\n",
       "      <th>1</th>\n",
       "      <td>49</td>\n",
       "      <td>1,652</td>\n",
       "      <td>22.00</td>\n",
       "    </tr>\n",
       "    <tr>\n",
       "      <th>2</th>\n",
       "      <td>49</td>\n",
       "      <td>259,463</td>\n",
       "      <td>30.00</td>\n",
       "    </tr>\n",
       "    <tr>\n",
       "      <th>3</th>\n",
       "      <td>25</td>\n",
       "      <td>52,469</td>\n",
       "      <td>26.00</td>\n",
       "    </tr>\n",
       "    <tr>\n",
       "      <th>4</th>\n",
       "      <td>42</td>\n",
       "      <td>27,762</td>\n",
       "      <td>20.50</td>\n",
       "    </tr>\n",
       "  </tbody>\n",
       "</table>\n",
       "</div>"
      ],
      "text/plain": [
       "  Price(Dollar) Number of reviews Real price(Dollar)\n",
       "0            62                 2              14.00\n",
       "1            49             1,652              22.00\n",
       "2            49           259,463              30.00\n",
       "3            25            52,469              26.00\n",
       "4            42            27,762              20.50"
      ]
     },
     "execution_count": 82,
     "metadata": {},
     "output_type": "execute_result"
    }
   ],
   "source": [
    "some_df.loc[0:4]"
   ]
  },
  {
   "attachments": {},
   "cell_type": "markdown",
   "metadata": {},
   "source": [
    "#### Sampling"
   ]
  },
  {
   "cell_type": "code",
   "execution_count": 83,
   "metadata": {},
   "outputs": [
    {
     "data": {
      "text/html": [
       "<div>\n",
       "<style scoped>\n",
       "    .dataframe tbody tr th:only-of-type {\n",
       "        vertical-align: middle;\n",
       "    }\n",
       "\n",
       "    .dataframe tbody tr th {\n",
       "        vertical-align: top;\n",
       "    }\n",
       "\n",
       "    .dataframe thead th {\n",
       "        text-align: right;\n",
       "    }\n",
       "</style>\n",
       "<table border=\"1\" class=\"dataframe\">\n",
       "  <thead>\n",
       "    <tr style=\"text-align: right;\">\n",
       "      <th></th>\n",
       "      <th>Price(Dollar)</th>\n",
       "      <th>Number of reviews</th>\n",
       "      <th>Real price(Dollar)</th>\n",
       "    </tr>\n",
       "  </thead>\n",
       "  <tbody>\n",
       "    <tr>\n",
       "      <th>19541</th>\n",
       "      <td>18</td>\n",
       "      <td>9</td>\n",
       "      <td>None</td>\n",
       "    </tr>\n",
       "    <tr>\n",
       "      <th>4224</th>\n",
       "      <td>61</td>\n",
       "      <td>454</td>\n",
       "      <td>None</td>\n",
       "    </tr>\n",
       "    <tr>\n",
       "      <th>18160</th>\n",
       "      <td>49</td>\n",
       "      <td>34</td>\n",
       "      <td>42.95</td>\n",
       "    </tr>\n",
       "    <tr>\n",
       "      <th>21158</th>\n",
       "      <td>17</td>\n",
       "      <td>16</td>\n",
       "      <td>24.99</td>\n",
       "    </tr>\n",
       "    <tr>\n",
       "      <th>12657</th>\n",
       "      <td>68</td>\n",
       "      <td>39</td>\n",
       "      <td>None</td>\n",
       "    </tr>\n",
       "    <tr>\n",
       "      <th>8868</th>\n",
       "      <td>35</td>\n",
       "      <td>16</td>\n",
       "      <td>55.00</td>\n",
       "    </tr>\n",
       "    <tr>\n",
       "      <th>15789</th>\n",
       "      <td>9</td>\n",
       "      <td>11</td>\n",
       "      <td>None</td>\n",
       "    </tr>\n",
       "    <tr>\n",
       "      <th>15486</th>\n",
       "      <td>30</td>\n",
       "      <td>1</td>\n",
       "      <td>None</td>\n",
       "    </tr>\n",
       "    <tr>\n",
       "      <th>6749</th>\n",
       "      <td>45</td>\n",
       "      <td>28</td>\n",
       "      <td>None</td>\n",
       "    </tr>\n",
       "    <tr>\n",
       "      <th>3558</th>\n",
       "      <td>30</td>\n",
       "      <td>39</td>\n",
       "      <td>None</td>\n",
       "    </tr>\n",
       "  </tbody>\n",
       "</table>\n",
       "</div>"
      ],
      "text/plain": [
       "      Price(Dollar) Number of reviews Real price(Dollar)\n",
       "19541            18                 9               None\n",
       "4224             61               454               None\n",
       "18160            49                34              42.95\n",
       "21158            17                16              24.99\n",
       "12657            68                39               None\n",
       "8868             35                16              55.00\n",
       "15789             9                11               None\n",
       "15486            30                 1               None\n",
       "6749             45                28               None\n",
       "3558             30                39               None"
      ]
     },
     "execution_count": 83,
     "metadata": {},
     "output_type": "execute_result"
    }
   ],
   "source": [
    "some_df.sample(10)"
   ]
  },
  {
   "attachments": {},
   "cell_type": "markdown",
   "metadata": {},
   "source": [
    "## Analyzing data from data frame"
   ]
  },
  {
   "cell_type": "code",
   "execution_count": 109,
   "metadata": {},
   "outputs": [],
   "source": [
    "new_df=pd.read_csv('./data/amazon_car_accessories.csv',encoding='unicode_escape')"
   ]
  },
  {
   "cell_type": "code",
   "execution_count": 110,
   "metadata": {},
   "outputs": [
    {
     "data": {
      "text/html": [
       "<div>\n",
       "<style scoped>\n",
       "    .dataframe tbody tr th:only-of-type {\n",
       "        vertical-align: middle;\n",
       "    }\n",
       "\n",
       "    .dataframe tbody tr th {\n",
       "        vertical-align: top;\n",
       "    }\n",
       "\n",
       "    .dataframe thead th {\n",
       "        text-align: right;\n",
       "    }\n",
       "</style>\n",
       "<table border=\"1\" class=\"dataframe\">\n",
       "  <thead>\n",
       "    <tr style=\"text-align: right;\">\n",
       "      <th></th>\n",
       "      <th>Production Description</th>\n",
       "      <th>price</th>\n",
       "      <th>number_of_reviews</th>\n",
       "      <th>real_price_dollar</th>\n",
       "      <th>Free days</th>\n",
       "      <th>Shipment</th>\n",
       "      <th>Delivery Date</th>\n",
       "      <th>How many sell  in past month</th>\n",
       "      <th>Stock update</th>\n",
       "      <th>Unnamed: 9</th>\n",
       "    </tr>\n",
       "  </thead>\n",
       "  <tbody>\n",
       "    <tr>\n",
       "      <th>0</th>\n",
       "      <td>KINGLAKE 328 Feet Natural Jute Twine Best Arts...</td>\n",
       "      <td>10.00</td>\n",
       "      <td>29815.0</td>\n",
       "      <td>25.68</td>\n",
       "      <td>90 days FREE. Terms apply.</td>\n",
       "      <td>Ships to Bangladesh</td>\n",
       "      <td>Mon, Jun 19</td>\n",
       "      <td>50+ bought in past week</td>\n",
       "      <td>Only 3 left in stock - order soon.</td>\n",
       "      <td>NaN</td>\n",
       "    </tr>\n",
       "    <tr>\n",
       "      <th>1</th>\n",
       "      <td>B-Air Grizzly Tarp Multi Purpose Waterproof Tarp</td>\n",
       "      <td>13.00</td>\n",
       "      <td>14370.0</td>\n",
       "      <td>38.12</td>\n",
       "      <td>90 days FREE. Terms apply.</td>\n",
       "      <td>Ships to Bangladesh</td>\n",
       "      <td>Mon, Jun 19</td>\n",
       "      <td>50+ bought in past week</td>\n",
       "      <td>Only 2 left in stock - order soon.</td>\n",
       "      <td>NaN</td>\n",
       "    </tr>\n",
       "    <tr>\n",
       "      <th>2</th>\n",
       "      <td>Kotap BB-6B Ball Bungee Cord, Heavy-Duty &amp; Ver...</td>\n",
       "      <td>10.00</td>\n",
       "      <td>17801.0</td>\n",
       "      <td>19.99</td>\n",
       "      <td>90 days FREE. Terms apply.</td>\n",
       "      <td>Ships to Bangladesh</td>\n",
       "      <td>Mon, Jun 19</td>\n",
       "      <td>50+ bought in past week</td>\n",
       "      <td>Only 2 left in stock - order soon.</td>\n",
       "      <td>NaN</td>\n",
       "    </tr>\n",
       "    <tr>\n",
       "      <th>3</th>\n",
       "      <td>MaxxHaul 50023 Hitch Tightener Anti Rattle Sta...</td>\n",
       "      <td>9.00</td>\n",
       "      <td>5987.0</td>\n",
       "      <td>50.99</td>\n",
       "      <td>90 days FREE. Terms apply.</td>\n",
       "      <td>Ships to Bangladesh</td>\n",
       "      <td>Mon, Jun 19</td>\n",
       "      <td>50+ bought in past week</td>\n",
       "      <td>Only 2 left in stock - order soon.</td>\n",
       "      <td>NaN</td>\n",
       "    </tr>\n",
       "    <tr>\n",
       "      <th>4</th>\n",
       "      <td>Reese 21536 Drawbar 2 Inch Square and Ballmoun...</td>\n",
       "      <td>25.00</td>\n",
       "      <td>6190.0</td>\n",
       "      <td>62.99</td>\n",
       "      <td>90 days FREE. Terms apply.</td>\n",
       "      <td>Ships to Bangladesh</td>\n",
       "      <td>Mon, Jun 19</td>\n",
       "      <td>50+ bought in past week</td>\n",
       "      <td>Only 2 left in stock - order soon.</td>\n",
       "      <td>NaN</td>\n",
       "    </tr>\n",
       "    <tr>\n",
       "      <th>...</th>\n",
       "      <td>...</td>\n",
       "      <td>...</td>\n",
       "      <td>...</td>\n",
       "      <td>...</td>\n",
       "      <td>...</td>\n",
       "      <td>...</td>\n",
       "      <td>...</td>\n",
       "      <td>...</td>\n",
       "      <td>...</td>\n",
       "      <td>...</td>\n",
       "    </tr>\n",
       "    <tr>\n",
       "      <th>9568</th>\n",
       "      <td>Warn 74924 (MTO) DRUM_WINCH_RT40</td>\n",
       "      <td>76.00</td>\n",
       "      <td>11.0</td>\n",
       "      <td>None</td>\n",
       "      <td>90 days FREE. Terms apply.</td>\n",
       "      <td>Ships to Bangladesh</td>\n",
       "      <td>Mon, Jun 19</td>\n",
       "      <td>10% off coupon Details</td>\n",
       "      <td>Only 17 left in stock (more on the way).</td>\n",
       "      <td>NaN</td>\n",
       "    </tr>\n",
       "    <tr>\n",
       "      <th>9569</th>\n",
       "      <td>Rugged Ridge 11580.10 Trailer Hitch, 2 inch; 0...</td>\n",
       "      <td>7.00</td>\n",
       "      <td>5.0</td>\n",
       "      <td>None</td>\n",
       "      <td>90 days FREE. Terms apply.</td>\n",
       "      <td>Ships to Bangladesh</td>\n",
       "      <td>Mon, Jun 19</td>\n",
       "      <td>10% off coupon Details</td>\n",
       "      <td>Only 17 left in stock (more on the way).</td>\n",
       "      <td>NaN</td>\n",
       "    </tr>\n",
       "    <tr>\n",
       "      <th>9570</th>\n",
       "      <td>Gates 31633 OE Equivalent Fuel Tank Cap</td>\n",
       "      <td>71.00</td>\n",
       "      <td>5.0</td>\n",
       "      <td>None</td>\n",
       "      <td>90 days FREE. Terms apply.</td>\n",
       "      <td>Ships to Bangladesh</td>\n",
       "      <td>Mon, Jun 19</td>\n",
       "      <td>10% off coupon Details</td>\n",
       "      <td>Only 17 left in stock (more on the way).</td>\n",
       "      <td>NaN</td>\n",
       "    </tr>\n",
       "    <tr>\n",
       "      <th>9571</th>\n",
       "      <td>BIG RED 2.5 Ton (5000 lb) Torin Low Profile Hy...</td>\n",
       "      <td>35.00</td>\n",
       "      <td>5.0</td>\n",
       "      <td>None</td>\n",
       "      <td>90 days FREE. Terms apply.</td>\n",
       "      <td>Ships to Bangladesh</td>\n",
       "      <td>Mon, Jun 19</td>\n",
       "      <td>10% off coupon Details</td>\n",
       "      <td>Only 17 left in stock (more on the way).</td>\n",
       "      <td>NaN</td>\n",
       "    </tr>\n",
       "    <tr>\n",
       "      <th>9572</th>\n",
       "      <td>BIG RED ATRT2272CR Torin Manual Heavy Duty Han...</td>\n",
       "      <td>26.00</td>\n",
       "      <td>5.0</td>\n",
       "      <td>None</td>\n",
       "      <td>90 days FREE. Terms apply.</td>\n",
       "      <td>Ships to Bangladesh</td>\n",
       "      <td>Mon, Jun 19</td>\n",
       "      <td>10% off coupon Details</td>\n",
       "      <td>Only 17 left in stock (more on the way).</td>\n",
       "      <td>NaN</td>\n",
       "    </tr>\n",
       "  </tbody>\n",
       "</table>\n",
       "<p>9573 rows × 10 columns</p>\n",
       "</div>"
      ],
      "text/plain": [
       "                                 Production Description  price  \\\n",
       "0     KINGLAKE 328 Feet Natural Jute Twine Best Arts...  10.00   \n",
       "1      B-Air Grizzly Tarp Multi Purpose Waterproof Tarp  13.00   \n",
       "2     Kotap BB-6B Ball Bungee Cord, Heavy-Duty & Ver...  10.00   \n",
       "3     MaxxHaul 50023 Hitch Tightener Anti Rattle Sta...   9.00   \n",
       "4     Reese 21536 Drawbar 2 Inch Square and Ballmoun...  25.00   \n",
       "...                                                 ...    ...   \n",
       "9568                   Warn 74924 (MTO) DRUM_WINCH_RT40  76.00   \n",
       "9569  Rugged Ridge 11580.10 Trailer Hitch, 2 inch; 0...   7.00   \n",
       "9570            Gates 31633 OE Equivalent Fuel Tank Cap  71.00   \n",
       "9571  BIG RED 2.5 Ton (5000 lb) Torin Low Profile Hy...  35.00   \n",
       "9572  BIG RED ATRT2272CR Torin Manual Heavy Duty Han...  26.00   \n",
       "\n",
       "      number_of_reviews real_price_dollar                   Free days  \\\n",
       "0               29815.0             25.68  90 days FREE. Terms apply.   \n",
       "1               14370.0             38.12  90 days FREE. Terms apply.   \n",
       "2               17801.0             19.99  90 days FREE. Terms apply.   \n",
       "3                5987.0             50.99  90 days FREE. Terms apply.   \n",
       "4                6190.0             62.99  90 days FREE. Terms apply.   \n",
       "...                 ...               ...                         ...   \n",
       "9568               11.0              None  90 days FREE. Terms apply.   \n",
       "9569                5.0              None  90 days FREE. Terms apply.   \n",
       "9570                5.0              None  90 days FREE. Terms apply.   \n",
       "9571                5.0              None  90 days FREE. Terms apply.   \n",
       "9572                5.0              None  90 days FREE. Terms apply.   \n",
       "\n",
       "                 Shipment Delivery Date How many sell  in past month  \\\n",
       "0     Ships to Bangladesh   Mon, Jun 19      50+ bought in past week   \n",
       "1     Ships to Bangladesh   Mon, Jun 19      50+ bought in past week   \n",
       "2     Ships to Bangladesh   Mon, Jun 19      50+ bought in past week   \n",
       "3     Ships to Bangladesh   Mon, Jun 19      50+ bought in past week   \n",
       "4     Ships to Bangladesh   Mon, Jun 19      50+ bought in past week   \n",
       "...                   ...           ...                          ...   \n",
       "9568  Ships to Bangladesh   Mon, Jun 19       10% off coupon Details   \n",
       "9569  Ships to Bangladesh   Mon, Jun 19       10% off coupon Details   \n",
       "9570  Ships to Bangladesh   Mon, Jun 19       10% off coupon Details   \n",
       "9571  Ships to Bangladesh   Mon, Jun 19       10% off coupon Details   \n",
       "9572  Ships to Bangladesh   Mon, Jun 19       10% off coupon Details   \n",
       "\n",
       "                                  Stock update Unnamed: 9  \n",
       "0           Only 3 left in stock - order soon.        NaN  \n",
       "1           Only 2 left in stock - order soon.        NaN  \n",
       "2           Only 2 left in stock - order soon.        NaN  \n",
       "3           Only 2 left in stock - order soon.        NaN  \n",
       "4           Only 2 left in stock - order soon.        NaN  \n",
       "...                                        ...        ...  \n",
       "9568  Only 17 left in stock (more on the way).        NaN  \n",
       "9569  Only 17 left in stock (more on the way).        NaN  \n",
       "9570  Only 17 left in stock (more on the way).        NaN  \n",
       "9571  Only 17 left in stock (more on the way).        NaN  \n",
       "9572  Only 17 left in stock (more on the way).        NaN  \n",
       "\n",
       "[9573 rows x 10 columns]"
      ]
     },
     "execution_count": 110,
     "metadata": {},
     "output_type": "execute_result"
    }
   ],
   "source": [
    "new_df"
   ]
  },
  {
   "cell_type": "code",
   "execution_count": 111,
   "metadata": {},
   "outputs": [
    {
     "data": {
      "text/html": [
       "<div>\n",
       "<style scoped>\n",
       "    .dataframe tbody tr th:only-of-type {\n",
       "        vertical-align: middle;\n",
       "    }\n",
       "\n",
       "    .dataframe tbody tr th {\n",
       "        vertical-align: top;\n",
       "    }\n",
       "\n",
       "    .dataframe thead th {\n",
       "        text-align: right;\n",
       "    }\n",
       "</style>\n",
       "<table border=\"1\" class=\"dataframe\">\n",
       "  <thead>\n",
       "    <tr style=\"text-align: right;\">\n",
       "      <th></th>\n",
       "      <th>price</th>\n",
       "      <th>number_of_reviews</th>\n",
       "      <th>real_price_dollar</th>\n",
       "    </tr>\n",
       "  </thead>\n",
       "  <tbody>\n",
       "    <tr>\n",
       "      <th>0</th>\n",
       "      <td>10.00</td>\n",
       "      <td>29815.0</td>\n",
       "      <td>25.68</td>\n",
       "    </tr>\n",
       "    <tr>\n",
       "      <th>1</th>\n",
       "      <td>13.00</td>\n",
       "      <td>14370.0</td>\n",
       "      <td>38.12</td>\n",
       "    </tr>\n",
       "    <tr>\n",
       "      <th>2</th>\n",
       "      <td>10.00</td>\n",
       "      <td>17801.0</td>\n",
       "      <td>19.99</td>\n",
       "    </tr>\n",
       "    <tr>\n",
       "      <th>3</th>\n",
       "      <td>9.00</td>\n",
       "      <td>5987.0</td>\n",
       "      <td>50.99</td>\n",
       "    </tr>\n",
       "    <tr>\n",
       "      <th>4</th>\n",
       "      <td>25.00</td>\n",
       "      <td>6190.0</td>\n",
       "      <td>62.99</td>\n",
       "    </tr>\n",
       "    <tr>\n",
       "      <th>...</th>\n",
       "      <td>...</td>\n",
       "      <td>...</td>\n",
       "      <td>...</td>\n",
       "    </tr>\n",
       "    <tr>\n",
       "      <th>9568</th>\n",
       "      <td>76.00</td>\n",
       "      <td>11.0</td>\n",
       "      <td>None</td>\n",
       "    </tr>\n",
       "    <tr>\n",
       "      <th>9569</th>\n",
       "      <td>7.00</td>\n",
       "      <td>5.0</td>\n",
       "      <td>None</td>\n",
       "    </tr>\n",
       "    <tr>\n",
       "      <th>9570</th>\n",
       "      <td>71.00</td>\n",
       "      <td>5.0</td>\n",
       "      <td>None</td>\n",
       "    </tr>\n",
       "    <tr>\n",
       "      <th>9571</th>\n",
       "      <td>35.00</td>\n",
       "      <td>5.0</td>\n",
       "      <td>None</td>\n",
       "    </tr>\n",
       "    <tr>\n",
       "      <th>9572</th>\n",
       "      <td>26.00</td>\n",
       "      <td>5.0</td>\n",
       "      <td>None</td>\n",
       "    </tr>\n",
       "  </tbody>\n",
       "</table>\n",
       "<p>9573 rows × 3 columns</p>\n",
       "</div>"
      ],
      "text/plain": [
       "      price  number_of_reviews real_price_dollar\n",
       "0     10.00            29815.0             25.68\n",
       "1     13.00            14370.0             38.12\n",
       "2     10.00            17801.0             19.99\n",
       "3      9.00             5987.0             50.99\n",
       "4     25.00             6190.0             62.99\n",
       "...     ...                ...               ...\n",
       "9568  76.00               11.0              None\n",
       "9569   7.00                5.0              None\n",
       "9570  71.00                5.0              None\n",
       "9571  35.00                5.0              None\n",
       "9572  26.00                5.0              None\n",
       "\n",
       "[9573 rows x 3 columns]"
      ]
     },
     "execution_count": 111,
     "metadata": {},
     "output_type": "execute_result"
    }
   ],
   "source": [
    "new_df=new_df[['price','number_of_reviews','real_price_dollar']]\n",
    "new_df"
   ]
  },
  {
   "cell_type": "code",
   "execution_count": 117,
   "metadata": {},
   "outputs": [
    {
     "data": {
      "text/plain": [
       "str"
      ]
     },
     "execution_count": 117,
     "metadata": {},
     "output_type": "execute_result"
    }
   ],
   "source": [
    "type(new_df.price[0])"
   ]
  },
  {
   "cell_type": "code",
   "execution_count": null,
   "metadata": {},
   "outputs": [],
   "source": []
  }
 ],
 "metadata": {
  "kernelspec": {
   "display_name": "base",
   "language": "python",
   "name": "python3"
  },
  "language_info": {
   "codemirror_mode": {
    "name": "ipython",
    "version": 3
   },
   "file_extension": ".py",
   "mimetype": "text/x-python",
   "name": "python",
   "nbconvert_exporter": "python",
   "pygments_lexer": "ipython3",
   "version": "3.10.9"
  },
  "orig_nbformat": 4
 },
 "nbformat": 4,
 "nbformat_minor": 2
}
